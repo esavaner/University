{
 "cells": [
  {
   "cell_type": "markdown",
   "metadata": {},
   "source": [
    "# Lista 1\n",
    "\n",
    "## Kurs wybranego języka programowania (Python)\n",
    "\n",
    "Wszystkie rozwiązania proszę wpisać w tym notatniku poniżej treści zadań. Zadania z `*` to zadania dodatkowe."
   ]
  },
  {
   "cell_type": "markdown",
   "metadata": {},
   "source": [
    "## Zadanie 1 _(5pt)_\n",
    "\n",
    "Napisz funkcję, który wyświetla trójkąt Pascala o zadanej wysokości\n",
    "```\n",
    "                1\n",
    "              1   1\n",
    "            1   2   1\n",
    "          1   3   3   1\n",
    "        1   4   6   4   1\n",
    "      .....................\n",
    "```"
   ]
  },
  {
   "cell_type": "code",
   "execution_count": 105,
   "metadata": {},
   "outputs": [
    {
     "name": "stdout",
     "output_type": "stream",
     "text": "1               \n             1 1              \n            1 2 1             \n           1 3 3 1            \n          1 4 6 4 1           \n        1 5 10 10 5 1         \n"
    }
   ],
   "source": [
    "def write(list):\n",
    "    print(' '.join([str(item) for item in list]).center(30))\n",
    "\n",
    "def pascal_triangle(n):\n",
    "    l = [1]\n",
    "    write(l)\n",
    "    for i in range(int(n) - 1):\n",
    "        nl = [1]\n",
    "        for j in range(len(l) - 1):\n",
    "           nl.append(l[j] + l[j + 1])\n",
    "        nl.append(1)\n",
    "        l = nl\n",
    "        write(l)\n",
    "\n",
    "pascal_triangle(6)"
   ]
  },
  {
   "cell_type": "markdown",
   "metadata": {},
   "source": [
    "## Zadanie 2 _(5pt)_\n",
    "\n",
    "Napisz funkcję `primes(n)` zwracająca listę liczb pierwszych nie większych niż $n$ np.\n",
    "\n",
    "```\n",
    "In [ ]:   primes(6)\n",
    "Out [ ]: [2, 3, 5]\n",
    "```"
   ]
  },
  {
   "cell_type": "code",
   "execution_count": 107,
   "metadata": {},
   "outputs": [
    {
     "name": "stdout",
     "output_type": "stream",
     "text": "2 3 5 7 11 13 17 19 23 29 31 37 41 43 47 53"
    }
   ],
   "source": [
    "def primes(n):\n",
    "    if n <= 1:\n",
    "        return False\n",
    "    for i in range(2, n+1):\n",
    "        a = 0\n",
    "        for j in range(2, int(i/2 + 1)):\n",
    "            if i%j == 0:\n",
    "                a += 1\n",
    "        if a == 0:\n",
    "            print(i, end = \" \")\n",
    "\n",
    "primes(57)"
   ]
  },
  {
   "cell_type": "markdown",
   "metadata": {},
   "source": [
    "## Zadanie 3 _(5pt)_\n",
    "\n",
    "Napisz funkcje, ktora usuwa wszystkie powtarzajace sie elementy z listy (tak, że każdy element występuje tylko raz) np. z listy `[1,1,2,2,2,3,3,5,5,5,4,4,4,0]` dostajemy `[1,2,3,5,4,0]`."
   ]
  },
  {
   "cell_type": "code",
   "execution_count": 17,
   "metadata": {},
   "outputs": [
    {
     "name": "stdout",
     "output_type": "stream",
     "text": "[1, 2, 3, 5, 4, 0]\n"
    }
   ],
   "source": [
    "def removeDuplicates(oldList):\n",
    "    newList = list(dict.fromkeys(oldList))  #zmiana listy na slownik co usuwa duplikaty, potem ponowna zamiana na liste\n",
    "    print(newList)\n",
    "\n",
    "removeDuplicates([1,1,2,2,2,3,3,5,5,5,4,4,4,0])"
   ]
  },
  {
   "cell_type": "markdown",
   "metadata": {},
   "source": [
    "## Zadanie 4 _(10pt)_\n",
    "\n",
    "Napisz funkcję `prime_factors(n)`, która rozkłada $n$ na czynniki pierwsze i jako wynik wraca listę par $[(p_1,\\alpha_1), (p_2,\\alpha_2), \\ldots, (p_k, \\alpha_k)]$ taką, że $p_1^{\\alpha_1}p_2^{\\alpha_2}\\ldots p_k^{\\alpha_k}$.\n"
   ]
  },
  {
   "cell_type": "code",
   "execution_count": 24,
   "metadata": {},
   "outputs": [
    {
     "name": "stdout",
     "output_type": "stream",
     "text": "[(2, 2), (5, 2)]\n"
    }
   ],
   "source": [
    "def prime_factors(n):\n",
    "    p = []\n",
    "    k = 2\n",
    "    while(n>1):\n",
    "        a = 0\n",
    "        while(n%k == 0):\n",
    "            a += 1\n",
    "            n /= k\n",
    "        if(a != 0):\n",
    "            p.append((k, a))\n",
    "        k += 1\n",
    "    print(p)\n",
    "\n",
    "prime_factors(100)"
   ]
  },
  {
   "cell_type": "markdown",
   "metadata": {},
   "source": [
    "## Zadanie 5 _(10pt)_\n",
    "\n",
    "Napisz funkcję `fraczero(n)` liczącą silnie $n!$ dla $n$ od $0$ do $10000$ oraz jako wynik wraca liczbę zer na końcu $n!$."
   ]
  },
  {
   "cell_type": "code",
   "execution_count": 118,
   "metadata": {},
   "outputs": [
    {
     "name": "stdout",
     "output_type": "stream",
     "text": "1405006117752879898543142606244511569936384000000000\n9\n"
    }
   ],
   "source": [
    "def factorial(n):\n",
    "    w = 1\n",
    "    if (n < 0 or n > 10000):\n",
    "        return False\n",
    "    while(n>0):\n",
    "        w *= n\n",
    "        n -= 1\n",
    "    print(w)\n",
    "    return w\n",
    "\n",
    "def fraczero(n):\n",
    "    f = str(factorial(n))\n",
    "    z = 1\n",
    "    while(f[len(f)-1] == '0'):\n",
    "        z += 1\n",
    "        f = f[:-1]\n",
    "    print(z-1)\n",
    "\n",
    "fraczero(42)"
   ]
  },
  {
   "cell_type": "markdown",
   "metadata": {},
   "source": [
    "## Zadanie 6 _(10pt)_\n",
    "\n",
    "Napisz program, który generuje liczbę $20$ liczb losowych (rozkład jednostajny) od $1$ do $100$\n",
    "* Wyświetl listę wygenerowanych liczb\n",
    "* Wyświetl średnią\n",
    "* Wyświetl największą i najmniejszą wartość\n",
    "* Wyświetl drugą największą i drugą najmniejszą wartość na liście\n",
    "* Wyświetl ile jest liczb parzystych na liście\n",
    " "
   ]
  },
  {
   "cell_type": "code",
   "execution_count": 80,
   "metadata": {},
   "outputs": [
    {
     "name": "stdout",
     "output_type": "stream",
     "text": "[7, 21, 29, 8, 10, 41, 11, 92, 59, 77, 75, 99, 84, 16, 25, 23, 89, 64, 61, 25]\navg: 45.8\nmax: 99 min: 7\nsecond max: 92 second min: 8\neven numbers: 6\n"
    }
   ],
   "source": [
    "import random\n",
    "\n",
    "def avg(l):\n",
    "    return(sum(l)/len(l))\n",
    "\n",
    "def sminmax(l):\n",
    "    l.remove(min(l))\n",
    "    l.remove(max(l))\n",
    "    return l\n",
    "\n",
    "def even(l):\n",
    "    e = 0\n",
    "    for i in l:\n",
    "        if(i%2 == 0):\n",
    "            e += 1\n",
    "    return e\n",
    "\n",
    "r = []\n",
    "for i in range(20):\n",
    "    r.append(random.randint(0,100))\n",
    "\n",
    "print(r)\n",
    "print(\"avg:\", avg(r))\n",
    "print(\"max:\", max(r), \"min:\", min(r))\n",
    "k = r.copy()\n",
    "k = sminmax(k)\n",
    "print(\"second max:\", max(k), \"second min:\", min(k))\n",
    "print(\"even numbers:\", even(r))"
   ]
  },
  {
   "cell_type": "markdown",
   "metadata": {},
   "source": [
    "## Zadanie 7 _(10pt)_\n",
    "\n",
    "Załóżmy, że mamy następującą listę: `L = ['aababacaa', 'cabaabcca', 'aaabbcbacb', 'acababbaab', ...]` wygenerowaną losowo tzn. lista zawiera losowe ciągi znaków o zadanej długości z liter `'a'`, `'b'` i `'c'`. Takie wzorce występują w wielu miejscach np. sekwencje DNA. Użytkownik zawiera swój (wzorzec) ciąg znaków z literami i pustymi miejscami oznaczonymi przez `'*'` np. `\"a**a******\"`. Wykorzystaj słownik z kluczami zawierającymi indeksy znaków różnych od `'*'` i wartościami liter z wzorca. Napisz program, który znajduje wszystkie sekwencje z listy, które pasuje do podanego wzorca."
   ]
  },
  {
   "cell_type": "code",
   "execution_count": 117,
   "metadata": {},
   "outputs": [
    {
     "name": "stdout",
     "output_type": "stream",
     "text": "['acbbbabbb', 'bcbbbacbc', 'cacbbbcab', 'bccbaabaa', 'cacabacaa', 'bbbabbbca', 'ccbccbcba', 'cbcccbbcc', 'baabcbcaa', 'abbbccaba']\n['ccbccbcba']\n"
    }
   ],
   "source": [
    "import random\n",
    "\n",
    "def create(n, m):   # n - ilosc,  m - dlugosc\n",
    "    l = []\n",
    "    for i in range(n):\n",
    "        r = \"\"\n",
    "        for j in range(m):\n",
    "            r += random.choice(\"abc\")\n",
    "        l.append(r)\n",
    "    return l\n",
    "\n",
    "def find(n, l):\n",
    "    lp = []\n",
    "    for i in l:         # dla kazdego slowa w liscie\n",
    "        a = 0\n",
    "        for j in range(len(i)):     # dla kazdej litery w slowie\n",
    "            if(i[j] != n[j] and n[j] != \"*\"):\n",
    "                a += 1\n",
    "        if(a == 0):\n",
    "            lp.append(i)\n",
    "    return lp\n",
    "\n",
    "l = create(10, 9)\n",
    "print(l)\n",
    "lp = find(\"cc********\", l)\n",
    "print(lp)"
   ]
  },
  {
   "cell_type": "markdown",
   "metadata": {},
   "source": [
    "## Zadanie 8 _(10pt)_\n",
    "\n",
    "Napisz program, który konwerteruje liczby rzymskie na liczby arabskie. Do zapisu liczb rzymskich używa\n",
    "się 7 liter: `I=1`, `V=5`, `X=10`, `L=50`, `C=100`, `D=500`, `M=1000`. Opis algorytmu zamiany z i na system rzymski można znależć np. [tutaj](http://www.algorytm.org/algorytmy-arytmetyczne/zamiana-z-i-na-system-rzymski.html)"
   ]
  },
  {
   "cell_type": "code",
   "execution_count": 119,
   "metadata": {},
   "outputs": [
    {
     "name": "stdout",
     "output_type": "stream",
     "text": "1149\nMMMCMXCIX\n"
    }
   ],
   "source": [
    "def r2a(n):\n",
    "    keys = [(\"I\", 1), (\"V\", 5), (\"X\", 10), (\"L\", 50), (\"C\", 100), (\"D\", 500), (\"M\", 1000)]\n",
    "    max = 1\n",
    "    sum = 0\n",
    "    n = n[::-1].upper()\n",
    "    for i in n:     # dla kazdej litery\n",
    "        for a, b in keys:   # dla kazdego klucza\n",
    "            if(a == i):\n",
    "                if(b < max):    # jesli poprzedni jest mniejszy\n",
    "                    sum -= b\n",
    "                else:\n",
    "                    max = b\n",
    "                    sum += b\n",
    "    print(sum)\n",
    "\n",
    "def a2r(n):\n",
    "    if(n > 3999 or n < 1):\n",
    "        return False\n",
    "    keys = [\"M\", \"CM\", \"D\", \"CD\", \"C\", \"XC\", \"L\", \"XL\", \"X\", \"IX\", \"V\", \"IV\", \"I\"]\n",
    "    values = [1000, 900, 500, 400, 100, 90, 50, 40, 10, 9, 5, 4, 1]\n",
    "    res = \"\"\n",
    "    i = 0\n",
    "    while(n > 0):\n",
    "        if(n >= values[i]):\n",
    "            res += keys[i]\n",
    "            n -= values[i]\n",
    "        else:\n",
    "            i += 1\n",
    "    print(res)\n",
    "\n",
    "\n",
    "r2a(\"mcxlix\")\n",
    "a2r(3999)"
   ]
  },
  {
   "cell_type": "markdown",
   "metadata": {},
   "source": [
    "## Zadanie 9* _(5pt)_\n",
    "\n",
    "Napisz program kalkulator, który pobiera wprowadzone wartości oraz funkcje z klawiatury następnie podaje wynik. W przypadku błędnych danych zgłasza błąd.\n",
    "\n",
    "Przykładowa sesja:\n",
    "```\n",
    "    Kalkulator\n",
    "    [1]: 2+5*10\n",
    "        52\n",
    "    [2]: sin(0.5)+cos(0.3)\n",
    "        1.434762027729809\n",
    "    [3]: 2^100\n",
    "        1267650600228229401496703205376\n",
    "```\n",
    "\n",
    "Przykładowy kod pobierania danych od użytkownika:\n",
    "\n",
    "```\n",
    "    x = input('Podaj x = ')\n",
    "```"
   ]
  },
  {
   "cell_type": "code",
   "execution_count": null,
   "metadata": {},
   "outputs": [],
   "source": []
  },
  {
   "cell_type": "markdown",
   "metadata": {},
   "source": [
    "\n",
    "## Zadanie 10* _(10pt)_\n",
    "\n",
    "Napisz program, który rysuje na ekranie w trybie znakowym wykres funkcji zmiennej $x$. Wskazówka: utwórz  ,,tablicę dwuwymiarową'' o wymiarach 80x24 i narysuj wykres w tej tablicy. Następnie wynik wyświetl na ekranie.\n",
    "\n",
    "```\n",
    "        Podaj funkcje f(x) = sin(x)\n",
    "        Podaj początek przedziału a = -pi\n",
    "        Podaj koniec przedziału b = pi\n",
    "                                                |\n",
    "                                                |\n",
    "                                                |              ***********\n",
    "                                                |           ***           ***\n",
    "                                                |         **                 **\n",
    "                                                |        *                     *\n",
    "                                                |      **                       **\n",
    "                                                |     *                           *\n",
    "                                                |   **                             **\n",
    "                                                |  *                                 *\n",
    "                                                | *                                   *\n",
    "                                                |*                                     *\n",
    "        ----------------------------------------|---------------------------------------\n",
    "          *                                   * |\n",
    "           *                                 *  |\n",
    "            **                             **   |\n",
    "              *                           *     |\n",
    "               **                       **      |\n",
    "                 *                     *        |\n",
    "                  **                 **         |\n",
    "                    ***           ***           |\n",
    "                       ***** *****              |\n",
    "                            *                   |\n",
    "                                                |\n",
    "```"
   ]
  },
  {
   "cell_type": "code",
   "execution_count": null,
   "metadata": {},
   "outputs": [],
   "source": []
  }
 ],
 "metadata": {
  "kernelspec": {
   "display_name": "Python 3",
   "language": "python",
   "name": "python3"
  },
  "language_info": {
   "codemirror_mode": {
    "name": "ipython",
    "version": 3
   },
   "file_extension": ".py",
   "mimetype": "text/x-python",
   "name": "python",
   "nbconvert_exporter": "python",
   "pygments_lexer": "ipython3",
   "version": "3.8.2-final"
  }
 },
 "nbformat": 4,
 "nbformat_minor": 2
}